{
 "cells": [
  {
   "cell_type": "code",
   "execution_count": 1,
   "id": "72f78c29",
   "metadata": {},
   "outputs": [],
   "source": [
    "import pandas as pd \n",
    "import numpy as np\n",
    "import re, nltk\n",
    "from numpy import array\n",
    "from keras.preprocessing.text import one_hot \n",
    "from keras.preprocessing.sequence import pad_sequences\n",
    "from keras.models import Sequential\n",
    "from keras.layers.core import Activation, Dropout, Dense\n",
    "from keras.layers import Flatten\n",
    "from keras.layers import GlobalMaxPooling1D\n",
    "from keras.layers.embeddings import Embedding\n",
    "from sklearn.model_selection import train_test_split\n",
    "from keras.preprocessing.text import Tokenizer"
   ]
  },
  {
   "cell_type": "code",
   "execution_count": 2,
   "id": "70119176",
   "metadata": {},
   "outputs": [
    {
     "data": {
      "text/html": [
       "<div>\n",
       "<style scoped>\n",
       "    .dataframe tbody tr th:only-of-type {\n",
       "        vertical-align: middle;\n",
       "    }\n",
       "\n",
       "    .dataframe tbody tr th {\n",
       "        vertical-align: top;\n",
       "    }\n",
       "\n",
       "    .dataframe thead th {\n",
       "        text-align: right;\n",
       "    }\n",
       "</style>\n",
       "<table border=\"1\" class=\"dataframe\">\n",
       "  <thead>\n",
       "    <tr style=\"text-align: right;\">\n",
       "      <th></th>\n",
       "      <th>sentence</th>\n",
       "      <th>AMH</th>\n",
       "      <th>Tigrinya</th>\n",
       "      <th>Lithaunian</th>\n",
       "      <th>Arabic</th>\n",
       "      <th>czech</th>\n",
       "      <th>Germany</th>\n",
       "      <th>French</th>\n",
       "      <th>Labels</th>\n",
       "    </tr>\n",
       "  </thead>\n",
       "  <tbody>\n",
       "    <tr>\n",
       "      <th>5511</th>\n",
       "      <td>4 Babette 3 Miss Patty 2 Richard 1 LANE Gilmor...</td>\n",
       "      <td>4 ባቤት 3 ወይዘሪት ትዕግስት 2 ሪቻርድ 1 ሌን ጊልሞርግልብርቲ4</td>\n",
       "      <td>4 ባቤት 3 ወይዘሪት ትዕግስቲ 2 ሪቻርድ 1 ሎምን ጊልሞርጊስ</td>\n",
       "      <td>4 Babette 3 Miss Patty 2 Richard 1 Lane Gilmor...</td>\n",
       "      <td>4 Babette 3 Miss Patty 2 Richard 1 Lane Gilmor...</td>\n",
       "      <td>4 Babette 3 Miss Patty 2 Richard 1 Lane Gilmor...</td>\n",
       "      <td>4 Babette 3 Fräulein Patty 2 Richard 1 Lane Gi...</td>\n",
       "      <td>4 Babette 3 Miss Patty 2 Richard 1 Lane Gilmor...</td>\n",
       "      <td>2</td>\n",
       "    </tr>\n",
       "    <tr>\n",
       "      <th>1487</th>\n",
       "      <td>I guess you need a reading lesson Charlie</td>\n",
       "      <td>የንባብ ትምህርት ቻርሊ እንደሚያስፈልግህ እገምታለሁ</td>\n",
       "      <td>ናይ ንባብ ትምህርቲ ከም ዘድልየኻ ይግምት እየ ቻርሊ</td>\n",
       "      <td>Manau, jums reikia skaitymo pamokos Charlie</td>\n",
       "      <td>أعتقد أنك بحاجة إلى درس في القراءة تشارلي</td>\n",
       "      <td>Myslím, že potřebujete lekci čtení Charlie</td>\n",
       "      <td>Ich denke du brauchst eine Lesestunde Charlie</td>\n",
       "      <td>Je suppose que tu as besoin d'une leçon de lec...</td>\n",
       "      <td>0</td>\n",
       "    </tr>\n",
       "    <tr>\n",
       "      <th>5622</th>\n",
       "      <td>if this were true it would be good Because Ass...</td>\n",
       "      <td>ይህ እውነት ቢሆን ኖሮ አሳንጅ በማሪን ሌ ፔን ኢላማ ላይ ያነጣጠረ በመሆ...</td>\n",
       "      <td>ከምኡ እንተ ዝኸውን ነይሩ ፡ ኣሳንጅ ንሓለዋ ባሕሪ ዒላማ ምገበረ ነይሩ</td>\n",
       "      <td>Jei tai būtų tiesa, tai būtų gerai, nes Assang...</td>\n",
       "      <td>إذا كان هذا صحيحًا ، فسيكون ذلك جيدًا لأن أسان...</td>\n",
       "      <td>Kdyby to byla pravda, bylo by to dobré, protož...</td>\n",
       "      <td>Wenn dies wahr wäre, wäre es gut, weil Assange...</td>\n",
       "      <td>Si cela était vrai, ce serait bien car Assange...</td>\n",
       "      <td>2</td>\n",
       "    </tr>\n",
       "    <tr>\n",
       "      <th>1945</th>\n",
       "      <td>probably going to hell for this as well but po...</td>\n",
       "      <td>ምናልባትም ይህን ለማድረግ ወደ ሲኦል ቢሄድም ሊቀ ጳጳስ ፍራንሲስ ግን ከ...</td>\n",
       "      <td>ምናልባት ናብ ሲኦል ምኻድ ከምኡ እውን ጳጳስ ፍራንሲስ ናብ ቫቲካን ፈንጠ...</td>\n",
       "      <td>Tikriausiai taip pat eidami į pragarą, tačiau ...</td>\n",
       "      <td>من المحتمل أن يذهب إلى الجحيم من أجل هذا أيضًا...</td>\n",
       "      <td>Pravděpodobně za to také chodím do pekla, ale ...</td>\n",
       "      <td>Wahrscheinlich auch dafür zur Hölle, aber Paps...</td>\n",
       "      <td>Aller probablement en enfer pour cela aussi, m...</td>\n",
       "      <td>0</td>\n",
       "    </tr>\n",
       "    <tr>\n",
       "      <th>1250</th>\n",
       "      <td>He didnt fight anything thats his excuse just ...</td>\n",
       "      <td>ልክ እንደ ቻቬዝ ሰበብ የሆነውን ማንኛውንም ነገር ተጋድሎ አድርጓል ፤ ማ...</td>\n",
       "      <td>ምኽኒት ቻቬዝ ፡ ከምኡ ድማ ማዱሮስ ምኽኒት ምስ ኣቕረበ ፡ ነቲ ዘቕረቦ ...</td>\n",
       "      <td>Jis nieko nekovojo, tai yra jo pasiteisinimas,...</td>\n",
       "      <td>لم يحارب أي شيء هذا عذرا مثلما كان عذر شافيز و...</td>\n",
       "      <td>Nebojoval s ničím, co je jeho omluva, stejně j...</td>\n",
       "      <td>Er kämpfte nicht gegen etwas, was seine Entsch...</td>\n",
       "      <td>Il n'a pas combattu quoi que ce soit, c'est so...</td>\n",
       "      <td>0</td>\n",
       "    </tr>\n",
       "    <tr>\n",
       "      <th>...</th>\n",
       "      <td>...</td>\n",
       "      <td>...</td>\n",
       "      <td>...</td>\n",
       "      <td>...</td>\n",
       "      <td>...</td>\n",
       "      <td>...</td>\n",
       "      <td>...</td>\n",
       "      <td>...</td>\n",
       "      <td>...</td>\n",
       "    </tr>\n",
       "    <tr>\n",
       "      <th>3926</th>\n",
       "      <td>Even though i have my personal beliefs about a...</td>\n",
       "      <td>ፅንስ ስለማስወርድ የግል እምነቴ ቢኖረኝም እንኳ ሌሎች መብቶችን እንደማላ...</td>\n",
       "      <td>ዋላ \"ኳ ብዛዕባ ምንጻል ጥንሲ ውልቃዊ እምነተይ እንተሃለወኒ ፡ ኣብ ልዕ...</td>\n",
       "      <td>Nors aš turiu savo asmeninių įsitikinimų apie ...</td>\n",
       "      <td>على الرغم من أن لدي معتقداتي الشخصية حول الإجه...</td>\n",
       "      <td>I když mám své osobní přesvědčení o potratech,...</td>\n",
       "      <td>Obwohl ich meine persönlichen Überzeugungen üb...</td>\n",
       "      <td>Même si j'ai mes convictions personnelles sur ...</td>\n",
       "      <td>1</td>\n",
       "    </tr>\n",
       "    <tr>\n",
       "      <th>3231</th>\n",
       "      <td>if tim duncan played one more season we wouldv...</td>\n",
       "      <td>አንድ ተጨማሪ ወቅት ላይ ዶንሰን ቢጫወት ኖሮ 21 ክዳን እናስቀምጠው ነበር</td>\n",
       "      <td>ግዜ ዝደኸመ ዳንከን ኣብ ሓደ ወቕቲ እንተ ዝጻወት ፡ 21 መድሓኒ ምበልና...</td>\n",
       "      <td>Jei Timas Duncanas žaidė dar vieną sezoną, mes...</td>\n",
       "      <td>إذا لعب تيم دنكان موسمًا آخر ، فسنكون قادرين ع...</td>\n",
       "      <td>Pokud by Tim Duncan hrál ještě jednu sezónu, b...</td>\n",
       "      <td>Wenn Tim Duncan noch eine Saison spielte, wäre...</td>\n",
       "      <td>Si Tim Duncan jouait une saison de plus, nous ...</td>\n",
       "      <td>1</td>\n",
       "    </tr>\n",
       "    <tr>\n",
       "      <th>3802</th>\n",
       "      <td>good keep them away from the deplorables Thank...</td>\n",
       "      <td>ለፕሬዚዳንት ኦባማ ለ8 ዓመታት ያህል ሰላም አስገኝቶላቸው ከቆዩት አሳዛኝ...</td>\n",
       "      <td>ካብቲ ፕረዚደንት ኦባማ ን8 ዓመት ዝኣክል ሰላም ጉልባብ ብምግባር ዘስካሕ...</td>\n",
       "      <td>Gerai, kad jie atitolintų nuo išvežamų daiktų,...</td>\n",
       "      <td>من الجيد أن تبقيهم بعيدًا عن المستجدات ، شكرًا...</td>\n",
       "      <td>dobře, držte je dál od deplorables děkuji prez...</td>\n",
       "      <td>Gut, haltet sie von den bedauerlichen Dreieren...</td>\n",
       "      <td>Bon éloigne-les des déplorables merci le prési...</td>\n",
       "      <td>1</td>\n",
       "    </tr>\n",
       "    <tr>\n",
       "      <th>3298</th>\n",
       "      <td>You were better than my wildest dreams but Im ...</td>\n",
       "      <td>ከህልሜ በላይ ነበርክ ግን ኢም አሁንም ቢሆን ለጦቢ ድሃ ጦቢ ኬት ደስታ ...</td>\n",
       "      <td>ካብ ናይ በረኻ ሕልምታተይ ዝበልጽ እኳ እንተ ኰንካ ፡ ክሳዕ ሕጂ ሕጉስ ...</td>\n",
       "      <td>Tu buvai geresnis už mano laukiškiaus</td>\n",
       "      <td>كنت أفضل من أعنف أحلامي ولكني ما زلت لست سعيدً...</td>\n",
       "      <td>Byl jsi lepší než moje nejdivočejší sny, ale s...</td>\n",
       "      <td>Du warst besser als meine wildesten Träume, ab...</td>\n",
       "      <td>Tu étais meilleur que mes rêves les plus fous ...</td>\n",
       "      <td>1</td>\n",
       "    </tr>\n",
       "    <tr>\n",
       "      <th>3630</th>\n",
       "      <td>Friday Geneva unitednations United Nations Off...</td>\n",
       "      <td>አርብ ጄኔቭ የተባበሩት መንግስታት ድርጅት ጄኔቫ</td>\n",
       "      <td>ዓርቢ ጄኔቫ ኣብ ጀኔቫ ዝርከብ ቤት ፅሕፈት ሕቡራት ሃገራት ሓድነት ዘለዎ...</td>\n",
       "      <td>Penktadienis Ženevos Jungtinių Tautų biuras Že...</td>\n",
       "      <td>يوم الجمعة جنيف الموحد مكتب الأمم المتحدة في جنيف</td>\n",
       "      <td>Pátek Ženevský úřad UnitedNations OSN v Ženevě</td>\n",
       "      <td>Freitag Genfer UnitedNations United Nations Of...</td>\n",
       "      <td>Vendredi Genève Unitednations Office des Natio...</td>\n",
       "      <td>1</td>\n",
       "    </tr>\n",
       "  </tbody>\n",
       "</table>\n",
       "<p>7036 rows × 9 columns</p>\n",
       "</div>"
      ],
      "text/plain": [
       "                                               sentence  \\\n",
       "5511  4 Babette 3 Miss Patty 2 Richard 1 LANE Gilmor...   \n",
       "1487          I guess you need a reading lesson Charlie   \n",
       "5622  if this were true it would be good Because Ass...   \n",
       "1945  probably going to hell for this as well but po...   \n",
       "1250  He didnt fight anything thats his excuse just ...   \n",
       "...                                                 ...   \n",
       "3926  Even though i have my personal beliefs about a...   \n",
       "3231  if tim duncan played one more season we wouldv...   \n",
       "3802  good keep them away from the deplorables Thank...   \n",
       "3298  You were better than my wildest dreams but Im ...   \n",
       "3630  Friday Geneva unitednations United Nations Off...   \n",
       "\n",
       "                                                    AMH  \\\n",
       "5511         4 ባቤት 3 ወይዘሪት ትዕግስት 2 ሪቻርድ 1 ሌን ጊልሞርግልብርቲ4   \n",
       "1487                   የንባብ ትምህርት ቻርሊ እንደሚያስፈልግህ እገምታለሁ   \n",
       "5622  ይህ እውነት ቢሆን ኖሮ አሳንጅ በማሪን ሌ ፔን ኢላማ ላይ ያነጣጠረ በመሆ...   \n",
       "1945  ምናልባትም ይህን ለማድረግ ወደ ሲኦል ቢሄድም ሊቀ ጳጳስ ፍራንሲስ ግን ከ...   \n",
       "1250  ልክ እንደ ቻቬዝ ሰበብ የሆነውን ማንኛውንም ነገር ተጋድሎ አድርጓል ፤ ማ...   \n",
       "...                                                 ...   \n",
       "3926  ፅንስ ስለማስወርድ የግል እምነቴ ቢኖረኝም እንኳ ሌሎች መብቶችን እንደማላ...   \n",
       "3231    አንድ ተጨማሪ ወቅት ላይ ዶንሰን ቢጫወት ኖሮ 21 ክዳን እናስቀምጠው ነበር   \n",
       "3802  ለፕሬዚዳንት ኦባማ ለ8 ዓመታት ያህል ሰላም አስገኝቶላቸው ከቆዩት አሳዛኝ...   \n",
       "3298  ከህልሜ በላይ ነበርክ ግን ኢም አሁንም ቢሆን ለጦቢ ድሃ ጦቢ ኬት ደስታ ...   \n",
       "3630                     አርብ ጄኔቭ የተባበሩት መንግስታት ድርጅት ጄኔቫ   \n",
       "\n",
       "                                               Tigrinya  \\\n",
       "5511            4 ባቤት 3 ወይዘሪት ትዕግስቲ 2 ሪቻርድ 1 ሎምን ጊልሞርጊስ   \n",
       "1487                  ናይ ንባብ ትምህርቲ ከም ዘድልየኻ ይግምት እየ ቻርሊ   \n",
       "5622      ከምኡ እንተ ዝኸውን ነይሩ ፡ ኣሳንጅ ንሓለዋ ባሕሪ ዒላማ ምገበረ ነይሩ   \n",
       "1945  ምናልባት ናብ ሲኦል ምኻድ ከምኡ እውን ጳጳስ ፍራንሲስ ናብ ቫቲካን ፈንጠ...   \n",
       "1250  ምኽኒት ቻቬዝ ፡ ከምኡ ድማ ማዱሮስ ምኽኒት ምስ ኣቕረበ ፡ ነቲ ዘቕረቦ ...   \n",
       "...                                                 ...   \n",
       "3926  ዋላ \"ኳ ብዛዕባ ምንጻል ጥንሲ ውልቃዊ እምነተይ እንተሃለወኒ ፡ ኣብ ልዕ...   \n",
       "3231  ግዜ ዝደኸመ ዳንከን ኣብ ሓደ ወቕቲ እንተ ዝጻወት ፡ 21 መድሓኒ ምበልና...   \n",
       "3802  ካብቲ ፕረዚደንት ኦባማ ን8 ዓመት ዝኣክል ሰላም ጉልባብ ብምግባር ዘስካሕ...   \n",
       "3298  ካብ ናይ በረኻ ሕልምታተይ ዝበልጽ እኳ እንተ ኰንካ ፡ ክሳዕ ሕጂ ሕጉስ ...   \n",
       "3630  ዓርቢ ጄኔቫ ኣብ ጀኔቫ ዝርከብ ቤት ፅሕፈት ሕቡራት ሃገራት ሓድነት ዘለዎ...   \n",
       "\n",
       "                                            Lithaunian   \\\n",
       "5511  4 Babette 3 Miss Patty 2 Richard 1 Lane Gilmor...   \n",
       "1487        Manau, jums reikia skaitymo pamokos Charlie   \n",
       "5622  Jei tai būtų tiesa, tai būtų gerai, nes Assang...   \n",
       "1945  Tikriausiai taip pat eidami į pragarą, tačiau ...   \n",
       "1250  Jis nieko nekovojo, tai yra jo pasiteisinimas,...   \n",
       "...                                                 ...   \n",
       "3926  Nors aš turiu savo asmeninių įsitikinimų apie ...   \n",
       "3231  Jei Timas Duncanas žaidė dar vieną sezoną, mes...   \n",
       "3802  Gerai, kad jie atitolintų nuo išvežamų daiktų,...   \n",
       "3298              Tu buvai geresnis už mano laukiškiaus   \n",
       "3630  Penktadienis Ženevos Jungtinių Tautų biuras Že...   \n",
       "\n",
       "                                                 Arabic  \\\n",
       "5511  4 Babette 3 Miss Patty 2 Richard 1 Lane Gilmor...   \n",
       "1487          أعتقد أنك بحاجة إلى درس في القراءة تشارلي   \n",
       "5622  إذا كان هذا صحيحًا ، فسيكون ذلك جيدًا لأن أسان...   \n",
       "1945  من المحتمل أن يذهب إلى الجحيم من أجل هذا أيضًا...   \n",
       "1250  لم يحارب أي شيء هذا عذرا مثلما كان عذر شافيز و...   \n",
       "...                                                 ...   \n",
       "3926  على الرغم من أن لدي معتقداتي الشخصية حول الإجه...   \n",
       "3231  إذا لعب تيم دنكان موسمًا آخر ، فسنكون قادرين ع...   \n",
       "3802  من الجيد أن تبقيهم بعيدًا عن المستجدات ، شكرًا...   \n",
       "3298  كنت أفضل من أعنف أحلامي ولكني ما زلت لست سعيدً...   \n",
       "3630  يوم الجمعة جنيف الموحد مكتب الأمم المتحدة في جنيف   \n",
       "\n",
       "                                                 czech   \\\n",
       "5511  4 Babette 3 Miss Patty 2 Richard 1 Lane Gilmor...   \n",
       "1487         Myslím, že potřebujete lekci čtení Charlie   \n",
       "5622  Kdyby to byla pravda, bylo by to dobré, protož...   \n",
       "1945  Pravděpodobně za to také chodím do pekla, ale ...   \n",
       "1250  Nebojoval s ničím, co je jeho omluva, stejně j...   \n",
       "...                                                 ...   \n",
       "3926  I když mám své osobní přesvědčení o potratech,...   \n",
       "3231  Pokud by Tim Duncan hrál ještě jednu sezónu, b...   \n",
       "3802  dobře, držte je dál od deplorables děkuji prez...   \n",
       "3298  Byl jsi lepší než moje nejdivočejší sny, ale s...   \n",
       "3630     Pátek Ženevský úřad UnitedNations OSN v Ženevě   \n",
       "\n",
       "                                                Germany  \\\n",
       "5511  4 Babette 3 Fräulein Patty 2 Richard 1 Lane Gi...   \n",
       "1487      Ich denke du brauchst eine Lesestunde Charlie   \n",
       "5622  Wenn dies wahr wäre, wäre es gut, weil Assange...   \n",
       "1945  Wahrscheinlich auch dafür zur Hölle, aber Paps...   \n",
       "1250  Er kämpfte nicht gegen etwas, was seine Entsch...   \n",
       "...                                                 ...   \n",
       "3926  Obwohl ich meine persönlichen Überzeugungen üb...   \n",
       "3231  Wenn Tim Duncan noch eine Saison spielte, wäre...   \n",
       "3802  Gut, haltet sie von den bedauerlichen Dreieren...   \n",
       "3298  Du warst besser als meine wildesten Träume, ab...   \n",
       "3630  Freitag Genfer UnitedNations United Nations Of...   \n",
       "\n",
       "                                                 French  Labels  \n",
       "5511  4 Babette 3 Miss Patty 2 Richard 1 Lane Gilmor...       2  \n",
       "1487  Je suppose que tu as besoin d'une leçon de lec...       0  \n",
       "5622  Si cela était vrai, ce serait bien car Assange...       2  \n",
       "1945  Aller probablement en enfer pour cela aussi, m...       0  \n",
       "1250  Il n'a pas combattu quoi que ce soit, c'est so...       0  \n",
       "...                                                 ...     ...  \n",
       "3926  Même si j'ai mes convictions personnelles sur ...       1  \n",
       "3231  Si Tim Duncan jouait une saison de plus, nous ...       1  \n",
       "3802  Bon éloigne-les des déplorables merci le prési...       1  \n",
       "3298  Tu étais meilleur que mes rêves les plus fous ...       1  \n",
       "3630  Vendredi Genève Unitednations Office des Natio...       1  \n",
       "\n",
       "[7036 rows x 9 columns]"
      ]
     },
     "metadata": {},
     "output_type": "display_data"
    }
   ],
   "source": [
    "import pandas as pd\n",
    "df1 = pd.read_csv(r'Alllanguages.csv', encoding =\"utf-8\")\n",
    "df = df1.sample(frac =1)\n",
    "display(df)"
   ]
  },
  {
   "cell_type": "code",
   "execution_count": 3,
   "id": "264ef68c",
   "metadata": {},
   "outputs": [],
   "source": [
    "sentence = df.AMH.values.tolist()\n",
    "sentiment = df.Labels.values.tolist()"
   ]
  },
  {
   "cell_type": "code",
   "execution_count": 4,
   "id": "5877d3f2",
   "metadata": {},
   "outputs": [],
   "source": [
    "sentence_a = np.array(sentence)\n",
    "sentiment_a =np.array(sentiment)"
   ]
  },
  {
   "cell_type": "code",
   "execution_count": 5,
   "id": "c86e3f56",
   "metadata": {},
   "outputs": [
    {
     "name": "stdout",
     "output_type": "stream",
     "text": [
      "7036\n",
      "7036\n",
      "[2 0 2 0 0 2 0 0 0 0]\n"
     ]
    }
   ],
   "source": [
    "print(len(sentence_a))\n",
    "print(len(sentiment_a))\n",
    "print(sentiment_a[0:10])"
   ]
  },
  {
   "cell_type": "code",
   "execution_count": 6,
   "id": "ca12d883",
   "metadata": {},
   "outputs": [],
   "source": [
    "Comm = []\n",
    "for el in sentence_a:\n",
    "    sent= re.sub(r'[A-Z]+', '', el)\n",
    "    sent1 = re.sub(r'[a-z]+', '',sent)\n",
    "    sent2= re.sub(r'[^\\w]', ' ', sent1)\n",
    "    \n",
    "    Comm.append(sent2)"
   ]
  },
  {
   "cell_type": "code",
   "execution_count": 7,
   "id": "a9e51ff6",
   "metadata": {},
   "outputs": [
    {
     "name": "stdout",
     "output_type": "stream",
     "text": [
      "7036\n",
      "['4 ባቤት 3 ወይዘሪት ትዕግስት 2 ሪቻርድ 1 ሌን ጊልሞርግልብርቲ4', 'የንባብ ትምህርት ቻርሊ እንደሚያስፈልግህ እገምታለሁ', 'ይህ እውነት ቢሆን ኖሮ አሳንጅ በማሪን ሌ ፔን ኢላማ ላይ ያነጣጠረ በመሆኑ ጥሩ ነበር', 'ምናልባትም ይህን ለማድረግ ወደ ሲኦል ቢሄድም ሊቀ ጳጳስ ፍራንሲስ ግን ከቫቲካን ሜሪ ክሪስቲማዎች ጋር የሚያጋጩ አንዳንድ የጅምላ ጭፍጨፋዎች ያስፈልጓቸው ይሆናል', 'ልክ እንደ ቻቬዝ ሰበብ የሆነውን ማንኛውንም ነገር ተጋድሎ አድርጓል   ማዱሮስ ደግሞ ሰበብ አስባብ አቅርቧል', 'ከአንበሳ በግማሽ ማሳረጊያ ላይ ሎል ጀስቲን ግንድ ከበሮ ላይ', 'እስቲ አስቡት ህጻናቱ ቶክሲክ ጭስ ጭስ ጭስ ጭስ ጭስ የሆነውን ሞሱሎፍ ለሕፃናት ጥማት በኢራቅ በኩል ይጫወታሉ', 'ትሬምፕስ መጥፎው ሂላሪ አይ ኤስ የበለጠ የቴፒ ቅንጣት ታህል ለማግኘት ብቁ እንዳልሆነች ቃል የገባውን ቃል ለማየት ብቁ አልሆነም', 'ይህን ግድግዳ ለመሥራት ኪላሪ ድራፍት የተባለውን መጥፎ ማህፀን በሙሉ አፍኖ በማውጣት ልጅ መውለድ ችሏል', 'የሻሮን መርፌዎች ሜላኒያ መለከት እየነፉ ሕዝቡን እያቀጨጩ ነው']\n"
     ]
    }
   ],
   "source": [
    "print(len(Comm))\n",
    "print(Comm[0:10])"
   ]
  },
  {
   "cell_type": "code",
   "execution_count": 8,
   "id": "59e6b5f3",
   "metadata": {},
   "outputs": [],
   "source": [
    "from sklearn.preprocessing import LabelEncoder\n",
    "import numpy as np\n",
    "y = np.array(sentiment_a)\n",
    "label_encoder = LabelEncoder()\n",
    "vec = label_encoder.fit_transform(y)"
   ]
  },
  {
   "cell_type": "code",
   "execution_count": 12,
   "id": "ae4575e2",
   "metadata": {},
   "outputs": [
    {
     "name": "stdout",
     "output_type": "stream",
     "text": [
      "[1. 0. 0.]\n",
      "[0. 1. 0.]\n"
     ]
    }
   ],
   "source": [
    "from tensorflow.keras.utils import to_categorical\n",
    "y = to_categorical(vec)\n",
    "print(y[1])\n",
    "print(y[21])"
   ]
  },
  {
   "cell_type": "code",
   "execution_count": 13,
   "id": "470afd17",
   "metadata": {},
   "outputs": [
    {
     "name": "stdout",
     "output_type": "stream",
     "text": [
      "4502\n",
      "1126\n",
      "1408\n"
     ]
    }
   ],
   "source": [
    "X_train, X_test, y_train, y_test = train_test_split(Comm, y , test_size = 0.20, random_state = 42, shuffle = True)\n",
    "X_train, X_val, y_train, y_val = train_test_split(X_train, y_train, test_size = 0.20, random_state = 1, shuffle = True)\n",
    "print(len(X_train))\n",
    "print(len(X_val))\n",
    "print(len(X_test))"
   ]
  },
  {
   "cell_type": "code",
   "execution_count": 14,
   "id": "9f74eca1",
   "metadata": {},
   "outputs": [],
   "source": [
    "tokenizer = Tokenizer(num_words = 100000, filters ='!\"#$%&()*+,-./;<=>?@][\\\\]^{|}~\\t\\n')\n",
    "tokenizer.fit_on_texts(X_train)\n",
    "index_of_words = tokenizer.word_index\n",
    "X_train = tokenizer.texts_to_sequences(X_train)\n",
    "X_test = tokenizer.texts_to_sequences(X_test)\n",
    "X_val = tokenizer.texts_to_sequences(X_val)"
   ]
  },
  {
   "cell_type": "code",
   "execution_count": 15,
   "id": "ffa355b8",
   "metadata": {},
   "outputs": [],
   "source": [
    "vocab_size = len(tokenizer.word_index) + 1\n",
    "maxlen = 100\n",
    "X_train = pad_sequences(X_train, padding = 'post', maxlen = maxlen)\n",
    "X_test = pad_sequences(X_test, padding = 'post', maxlen = maxlen)\n",
    "X_val = pad_sequences(X_val, padding = 'post', maxlen = maxlen)"
   ]
  },
  {
   "cell_type": "code",
   "execution_count": 17,
   "id": "cd00a405",
   "metadata": {},
   "outputs": [
    {
     "name": "stdout",
     "output_type": "stream",
     "text": [
      "Total 41042 word vectors.\n"
     ]
    }
   ],
   "source": [
    "from numpy import array\n",
    "from numpy import asarray\n",
    "from numpy import zeros\n",
    "import pickle \n",
    "with open (\"C:/Users/senug/Documents/Project 1 PHD/EmbeddingAmh.pkl\", 'rb') as f:\n",
    "    embeddings_index = pickle.load(f)\n",
    "    print('Total %s word vectors.' % len(embeddings_index))"
   ]
  },
  {
   "cell_type": "code",
   "execution_count": 18,
   "id": "d5a2c59e",
   "metadata": {},
   "outputs": [
    {
     "ename": "ValueError",
     "evalue": "could not broadcast input array from shape (300,) into shape (100,)",
     "output_type": "error",
     "traceback": [
      "\u001b[1;31m---------------------------------------------------------------------------\u001b[0m",
      "\u001b[1;31mValueError\u001b[0m                                Traceback (most recent call last)",
      "\u001b[1;32m~\\AppData\\Local\\Temp/ipykernel_45208/598195763.py\u001b[0m in \u001b[0;36m<module>\u001b[1;34m\u001b[0m\n\u001b[0;32m      5\u001b[0m     \u001b[0membedding_vector\u001b[0m \u001b[1;33m=\u001b[0m \u001b[0membeddings_index\u001b[0m\u001b[1;33m.\u001b[0m\u001b[0mget\u001b[0m\u001b[1;33m(\u001b[0m\u001b[0mword\u001b[0m\u001b[1;33m)\u001b[0m\u001b[1;33m\u001b[0m\u001b[1;33m\u001b[0m\u001b[0m\n\u001b[0;32m      6\u001b[0m     \u001b[1;32mif\u001b[0m \u001b[0membedding_vector\u001b[0m \u001b[1;32mis\u001b[0m \u001b[1;32mnot\u001b[0m \u001b[1;32mNone\u001b[0m\u001b[1;33m:\u001b[0m\u001b[1;33m\u001b[0m\u001b[1;33m\u001b[0m\u001b[0m\n\u001b[1;32m----> 7\u001b[1;33m         \u001b[0membedding_matrix\u001b[0m\u001b[1;33m[\u001b[0m\u001b[0mi\u001b[0m\u001b[1;33m]\u001b[0m \u001b[1;33m=\u001b[0m \u001b[0membedding_vector\u001b[0m\u001b[1;33m\u001b[0m\u001b[1;33m\u001b[0m\u001b[0m\n\u001b[0m\u001b[0;32m      8\u001b[0m \u001b[0mprint\u001b[0m\u001b[1;33m(\u001b[0m\u001b[1;34m'Embedding matrix shape'\u001b[0m\u001b[1;33m,\u001b[0m \u001b[0membedding_matrix\u001b[0m\u001b[1;33m.\u001b[0m\u001b[0mshape\u001b[0m\u001b[1;33m)\u001b[0m\u001b[1;33m\u001b[0m\u001b[1;33m\u001b[0m\u001b[0m\n",
      "\u001b[1;31mValueError\u001b[0m: could not broadcast input array from shape (300,) into shape (100,)"
     ]
    }
   ],
   "source": [
    "EMBEDDINGS_DIM = 100\n",
    "  \n",
    "embedding_matrix = np.random.random((len(index_of_words) + 1, EMBEDDINGS_DIM))\n",
    "for word, i in index_of_words.items():\n",
    "    embedding_vector = embeddings_index.get(word)\n",
    "    if embedding_vector is not None:\n",
    "        embedding_matrix[i] = embedding_vector\n",
    "print('Embedding matrix shape', embedding_matrix.shape)"
   ]
  },
  {
   "cell_type": "code",
   "execution_count": 19,
   "id": "5779aae5",
   "metadata": {},
   "outputs": [
    {
     "name": "stdout",
     "output_type": "stream",
     "text": [
      "Model: \"sequential\"\n",
      "_________________________________________________________________\n",
      " Layer (type)                Output Shape              Param #   \n",
      "=================================================================\n",
      " embedding (Embedding)       (None, 100, 100)          1974100   \n",
      "                                                                 \n",
      " bidirectional (Bidirectiona  (None, 256)              234496    \n",
      " l)                                                              \n",
      "                                                                 \n",
      " dense (Dense)               (None, 64)                16448     \n",
      "                                                                 \n",
      " dense_1 (Dense)             (None, 3)                 195       \n",
      "                                                                 \n",
      "=================================================================\n",
      "Total params: 2,225,239\n",
      "Trainable params: 251,139\n",
      "Non-trainable params: 1,974,100\n",
      "_________________________________________________________________\n",
      "None\n"
     ]
    }
   ],
   "source": [
    "import numpy as np \n",
    "from keras.layers.convolutional import Conv1D\n",
    "from keras.models import Sequential\n",
    "from tensorflow.keras.optimizers import Adam\n",
    "from keras.layers import Dense\n",
    "from keras.layers import LSTM, SpatialDropout1D\n",
    "from keras.layers.convolutional import MaxPooling1D\n",
    "from keras.layers import LSTM, SpatialDropout1D, Bidirectional\n",
    "from keras.preprocessing import sequence \n",
    "import pandas as pd \n",
    "from gensim.models import Phrases\n",
    "from gensim.models.phrases import Phraser \n",
    "from keras import backend as K\n",
    "lstm_out = 196\n",
    "model = Sequential()\n",
    "embedding_layer = Embedding(vocab_size, 100, weights = [embedding_matrix], input_length=maxlen, trainable = False)\n",
    "model.add(embedding_layer)\n",
    "model.add(Bidirectional(LSTM(128)))\n",
    "model.add(Dense(64, activation='relu'))\n",
    "model.add(Dense(3, activation='softmax'))\n",
    "model.compile(optimizer = 'adam', loss='categorical_crossentropy', metrics =['acc'])\n",
    "model.compile(loss ='categorical_crossentropy',\n",
    "             optimizer = 'adam',\n",
    "             metrics = ['acc'])\n",
    "print(model.summary())\n"
   ]
  },
  {
   "cell_type": "code",
   "execution_count": 20,
   "id": "bd7cffb2",
   "metadata": {},
   "outputs": [
    {
     "name": "stdout",
     "output_type": "stream",
     "text": [
      "Epoch 1/50\n",
      "36/36 [==============================] - 23s 444ms/step - loss: 1.1068 - acc: 0.3436 - val_loss: 1.1161 - val_acc: 0.3517\n",
      "Epoch 2/50\n",
      "36/36 [==============================] - 15s 407ms/step - loss: 1.0938 - acc: 0.3763 - val_loss: 1.0939 - val_acc: 0.3508\n",
      "Epoch 3/50\n",
      "36/36 [==============================] - 15s 414ms/step - loss: 1.0860 - acc: 0.3896 - val_loss: 1.0939 - val_acc: 0.3517\n",
      "Epoch 4/50\n",
      "36/36 [==============================] - 15s 411ms/step - loss: 1.0863 - acc: 0.3876 - val_loss: 1.0878 - val_acc: 0.3925\n",
      "Epoch 5/50\n",
      "36/36 [==============================] - 14s 398ms/step - loss: 1.0862 - acc: 0.3878 - val_loss: 1.0808 - val_acc: 0.3996\n",
      "Epoch 6/50\n",
      "36/36 [==============================] - 15s 403ms/step - loss: 1.0856 - acc: 0.3894 - val_loss: 1.0785 - val_acc: 0.3996\n",
      "Epoch 7/50\n",
      "36/36 [==============================] - 14s 393ms/step - loss: 1.0788 - acc: 0.4014 - val_loss: 1.0848 - val_acc: 0.3721\n",
      "Epoch 8/50\n",
      "36/36 [==============================] - 14s 397ms/step - loss: 1.0757 - acc: 0.4038 - val_loss: 1.0772 - val_acc: 0.3801\n",
      "Epoch 9/50\n",
      "36/36 [==============================] - 15s 427ms/step - loss: 1.0724 - acc: 0.4158 - val_loss: 1.0671 - val_acc: 0.4290\n",
      "Epoch 10/50\n",
      "36/36 [==============================] - 15s 407ms/step - loss: 1.0648 - acc: 0.4223 - val_loss: 1.0639 - val_acc: 0.4307\n",
      "Epoch 11/50\n",
      "36/36 [==============================] - 15s 417ms/step - loss: 1.0554 - acc: 0.4387 - val_loss: 1.0577 - val_acc: 0.4307\n",
      "Epoch 12/50\n",
      "36/36 [==============================] - 14s 378ms/step - loss: 1.0469 - acc: 0.4429 - val_loss: 1.0539 - val_acc: 0.4210\n",
      "Epoch 13/50\n",
      "36/36 [==============================] - 13s 370ms/step - loss: 1.0465 - acc: 0.4467 - val_loss: 1.0752 - val_acc: 0.4165\n",
      "Epoch 14/50\n",
      "36/36 [==============================] - 13s 368ms/step - loss: 1.0345 - acc: 0.4585 - val_loss: 1.0661 - val_acc: 0.4352\n",
      "Epoch 15/50\n",
      "36/36 [==============================] - 13s 367ms/step - loss: 1.0318 - acc: 0.4574 - val_loss: 1.0567 - val_acc: 0.4192\n",
      "Epoch 16/50\n",
      "36/36 [==============================] - 13s 373ms/step - loss: 1.0242 - acc: 0.4709 - val_loss: 1.0582 - val_acc: 0.4174\n",
      "Epoch 17/50\n",
      "36/36 [==============================] - 14s 405ms/step - loss: 1.0205 - acc: 0.4718 - val_loss: 1.0683 - val_acc: 0.4290\n",
      "Epoch 18/50\n",
      "36/36 [==============================] - 14s 395ms/step - loss: 1.0105 - acc: 0.4929 - val_loss: 1.0905 - val_acc: 0.4290\n",
      "Epoch 19/50\n",
      "36/36 [==============================] - 13s 356ms/step - loss: 1.0075 - acc: 0.4900 - val_loss: 1.0791 - val_acc: 0.4325\n",
      "Epoch 20/50\n",
      "36/36 [==============================] - 13s 358ms/step - loss: 0.9997 - acc: 0.4929 - val_loss: 1.0706 - val_acc: 0.4076\n",
      "Epoch 21/50\n",
      "36/36 [==============================] - 13s 366ms/step - loss: 1.0022 - acc: 0.5016 - val_loss: 1.0714 - val_acc: 0.4121\n",
      "Epoch 22/50\n",
      "36/36 [==============================] - 14s 378ms/step - loss: 0.9833 - acc: 0.5158 - val_loss: 1.0940 - val_acc: 0.4112\n",
      "Epoch 23/50\n",
      "36/36 [==============================] - 14s 389ms/step - loss: 0.9883 - acc: 0.5040 - val_loss: 1.0714 - val_acc: 0.4147\n",
      "Epoch 24/50\n",
      "36/36 [==============================] - 14s 387ms/step - loss: 0.9853 - acc: 0.5109 - val_loss: 1.0745 - val_acc: 0.4290\n",
      "Epoch 25/50\n",
      "36/36 [==============================] - 12s 328ms/step - loss: 0.9728 - acc: 0.5202 - val_loss: 1.1092 - val_acc: 0.4156\n",
      "Epoch 26/50\n",
      "36/36 [==============================] - 13s 355ms/step - loss: 0.9440 - acc: 0.5451 - val_loss: 1.0931 - val_acc: 0.4201\n",
      "Epoch 27/50\n",
      "36/36 [==============================] - 14s 376ms/step - loss: 0.9333 - acc: 0.5609 - val_loss: 1.1193 - val_acc: 0.4165\n",
      "Epoch 28/50\n",
      "36/36 [==============================] - 14s 383ms/step - loss: 0.9229 - acc: 0.5686 - val_loss: 1.1215 - val_acc: 0.4085\n",
      "Epoch 29/50\n",
      "36/36 [==============================] - 14s 394ms/step - loss: 0.8965 - acc: 0.5871 - val_loss: 1.1340 - val_acc: 0.4174\n",
      "Epoch 30/50\n",
      "36/36 [==============================] - 14s 405ms/step - loss: 0.8792 - acc: 0.5895 - val_loss: 1.1424 - val_acc: 0.4147\n",
      "Epoch 31/50\n",
      "36/36 [==============================] - 13s 376ms/step - loss: 0.8734 - acc: 0.5986 - val_loss: 1.1711 - val_acc: 0.4076\n",
      "Epoch 32/50\n",
      "36/36 [==============================] - 13s 371ms/step - loss: 0.8386 - acc: 0.6177 - val_loss: 1.2952 - val_acc: 0.4112\n",
      "Epoch 33/50\n",
      "36/36 [==============================] - 13s 368ms/step - loss: 0.8791 - acc: 0.5849 - val_loss: 1.1216 - val_acc: 0.4174\n",
      "Epoch 34/50\n",
      "36/36 [==============================] - 14s 379ms/step - loss: 0.8295 - acc: 0.6202 - val_loss: 1.1735 - val_acc: 0.4210\n",
      "Epoch 35/50\n",
      "36/36 [==============================] - 13s 371ms/step - loss: 0.7774 - acc: 0.6508 - val_loss: 1.2245 - val_acc: 0.4165\n",
      "Epoch 36/50\n",
      "36/36 [==============================] - 14s 398ms/step - loss: 0.7630 - acc: 0.6608 - val_loss: 1.2241 - val_acc: 0.4192\n",
      "Epoch 37/50\n",
      "36/36 [==============================] - 13s 374ms/step - loss: 0.7297 - acc: 0.6808 - val_loss: 1.2225 - val_acc: 0.4378\n",
      "Epoch 38/50\n",
      "36/36 [==============================] - 12s 342ms/step - loss: 0.6923 - acc: 0.6986 - val_loss: 1.2621 - val_acc: 0.4210\n",
      "Epoch 39/50\n",
      "36/36 [==============================] - 13s 363ms/step - loss: 0.6687 - acc: 0.7044 - val_loss: 1.3156 - val_acc: 0.4316\n",
      "Epoch 40/50\n",
      "36/36 [==============================] - 14s 377ms/step - loss: 0.6081 - acc: 0.7406 - val_loss: 1.3721 - val_acc: 0.4103\n",
      "Epoch 41/50\n",
      "36/36 [==============================] - 14s 387ms/step - loss: 0.5577 - acc: 0.7639 - val_loss: 1.4476 - val_acc: 0.4396\n",
      "Epoch 42/50\n",
      "36/36 [==============================] - 14s 392ms/step - loss: 0.5491 - acc: 0.7614 - val_loss: 1.5076 - val_acc: 0.4245\n",
      "Epoch 43/50\n",
      "36/36 [==============================] - 15s 414ms/step - loss: 0.4749 - acc: 0.8030 - val_loss: 1.5405 - val_acc: 0.4227\n",
      "Epoch 44/50\n",
      "36/36 [==============================] - 15s 415ms/step - loss: 0.4720 - acc: 0.8085 - val_loss: 1.6075 - val_acc: 0.4112\n",
      "Epoch 45/50\n",
      "36/36 [==============================] - 13s 372ms/step - loss: 0.4428 - acc: 0.8207 - val_loss: 1.7354 - val_acc: 0.4156\n",
      "Epoch 46/50\n",
      "36/36 [==============================] - 13s 366ms/step - loss: 0.3817 - acc: 0.8481 - val_loss: 1.6936 - val_acc: 0.4103\n",
      "Epoch 47/50\n",
      "36/36 [==============================] - 13s 361ms/step - loss: 0.3274 - acc: 0.8741 - val_loss: 1.8406 - val_acc: 0.4201\n",
      "Epoch 48/50\n",
      "36/36 [==============================] - 14s 378ms/step - loss: 0.3137 - acc: 0.8798 - val_loss: 1.8565 - val_acc: 0.4210\n",
      "Epoch 49/50\n",
      "36/36 [==============================] - 14s 384ms/step - loss: 0.2537 - acc: 0.9034 - val_loss: 2.0241 - val_acc: 0.4414\n",
      "Epoch 50/50\n",
      "36/36 [==============================] - 14s 405ms/step - loss: 0.2367 - acc: 0.9069 - val_loss: 2.1462 - val_acc: 0.4236\n"
     ]
    }
   ],
   "source": [
    "from keras.callbacks import EarlyStopping\n",
    "early_stopping = EarlyStopping(monitor = 'val_loss', min_delta = 0.01, patience = 4, verbose = 1)\n",
    "callbacks_list = [early_stopping]\n",
    "hist = model.fit(X_train, y_train, epochs = 50, batch_size =128, verbose = 1, validation_data = (X_val, y_val))\n",
    "#y_test = model.predict(X_test, batch_size = 1024, verbose = 1)"
   ]
  },
  {
   "cell_type": "code",
   "execution_count": 21,
   "id": "c497e42b",
   "metadata": {},
   "outputs": [
    {
     "name": "stdout",
     "output_type": "stream",
     "text": [
      "44/44 [==============================] - 3s 46ms/step - loss: 2.3811 - acc: 0.3864\n",
      "Test accuracy: 0.3863636255264282\n"
     ]
    }
   ],
   "source": [
    "score,acc  = model.evaluate(X_test, y_test, verbose=1)\n",
    "print('Test accuracy:', acc)"
   ]
  },
  {
   "cell_type": "code",
   "execution_count": 22,
   "id": "43c3b0c3",
   "metadata": {},
   "outputs": [
    {
     "name": "stdout",
     "output_type": "stream",
     "text": [
      "Train accuracy: 0.938027560710907\n"
     ]
    }
   ],
   "source": [
    "_,train_acc = model.evaluate(X_train,y_train, verbose = 0)\n",
    "print('Train accuracy:', train_acc)"
   ]
  },
  {
   "cell_type": "code",
   "execution_count": 23,
   "id": "a1473dcb",
   "metadata": {},
   "outputs": [
    {
     "name": "stdout",
     "output_type": "stream",
     "text": [
      "0.4236234426498413\n"
     ]
    }
   ],
   "source": [
    "a, b = model.evaluate(X_val, y_val, verbose =0)\n",
    "print(b)"
   ]
  },
  {
   "cell_type": "code",
   "execution_count": 24,
   "id": "852edc3d",
   "metadata": {},
   "outputs": [
    {
     "name": "stdout",
     "output_type": "stream",
     "text": [
      "44/44 [==============================] - 3s 41ms/step\n"
     ]
    }
   ],
   "source": [
    "yhat_probs = model.predict(X_test, verbose = 1)\n",
    "classes_x =np.argmax(yhat_probs, axis =1)"
   ]
  },
  {
   "cell_type": "code",
   "execution_count": 25,
   "id": "a800d772",
   "metadata": {},
   "outputs": [
    {
     "name": "stdout",
     "output_type": "stream",
     "text": [
      "[0 1 1 2 1 2 2 2 2 0 1 2 0 0 2 0 2 0 0 0 1 2 1 2 2 2 0 0 1 2 1 1 1 1 1 1 1\n",
      " 0 1 1 2 0 2 0 1 1 1 1 1 0 2 1 2 1 2 0 0 1 1 1 1 2 1 2 0 1 1 1 0 0 1 0 1 2\n",
      " 2 1 2 1 2 2 0 1 1 2 0 1 1 1 1 1 2 1 1 0 1 1 2 1 2 1]\n",
      "[0 2 0 0 1 2 1 1 1 0]\n"
     ]
    }
   ],
   "source": [
    "y_pred = model.predict(X_test)\n",
    "y_pred = np.argmax(y_pred, axis =1)\n",
    "y_test = np.argmax(y_test, axis = 1)\n",
    "print(y_pred[0:100])\n",
    "print(y_test[0:10])"
   ]
  },
  {
   "cell_type": "code",
   "execution_count": 26,
   "id": "d869b3f0",
   "metadata": {},
   "outputs": [
    {
     "name": "stdout",
     "output_type": "stream",
     "text": [
      "Confusion Matrix\n",
      "\n",
      "[[139 220 130]\n",
      " [ 92 194 171]\n",
      " [ 92 159 211]]\n"
     ]
    }
   ],
   "source": [
    "from sklearn.metrics import confusion_matrix\n",
    "confusion = confusion_matrix(y_test, y_pred)\n",
    "\n",
    "print('Confusion Matrix\\n')\n",
    "print(confusion)\n"
   ]
  },
  {
   "cell_type": "code",
   "execution_count": 27,
   "id": "43980319",
   "metadata": {},
   "outputs": [
    {
     "data": {
      "image/png": "[encoded data removed]",
      "text/plain": [
       "<Figure size 432x288 with 2 Axes>"
      ]
     },
     "metadata": {
      "needs_background": "light"
     },
     "output_type": "display_data"
    }
   ],
   "source": [
    "import seaborn as sns\n",
    "import matplotlib.pyplot as plt     \n",
    "\n",
    "ax= plt.subplot()\n",
    "cm = confusion_matrix(y_test, y_pred)\n",
    "sns.heatmap(cm, annot=True, fmt='g', ax=ax);  #annot=True to annotate cells, ftm='g' to disable scientific notation\n",
    "\n",
    "# labels, title and ticks\n",
    "ax.set_xlabel('Predicted labels');ax.set_ylabel('True labels'); \n",
    "ax.set_title('Confusion Matrix'); \n",
    "ax.xaxis.set_ticklabels(['Positive', 'Neutral', 'Negative']); ax.yaxis.set_ticklabels(['Positive', 'Neutral', 'Negative']);"
   ]
  },
  {
   "cell_type": "code",
   "execution_count": 28,
   "id": "6052e43d",
   "metadata": {},
   "outputs": [
    {
     "name": "stdout",
     "output_type": "stream",
     "text": [
      "              precision    recall  f1-score   support\n",
      "\n",
      "           0       0.43      0.28      0.34       489\n",
      "           1       0.34      0.42      0.38       457\n",
      "           2       0.41      0.46      0.43       462\n",
      "\n",
      "    accuracy                           0.39      1408\n",
      "   macro avg       0.39      0.39      0.38      1408\n",
      "weighted avg       0.39      0.39      0.38      1408\n",
      "\n"
     ]
    }
   ],
   "source": [
    "from sklearn import metrics\n",
    "print(metrics.classification_report(y_test, y_pred))"
   ]
  },
  {
   "cell_type": "code",
   "execution_count": null,
   "id": "2077154f",
   "metadata": {},
   "outputs": [],
   "source": []
  }
 ],
 "metadata": {
  "kernelspec": {
   "display_name": "Python 3 (ipykernel)",
   "language": "python",
   "name": "python3"
  },
  "language_info": {
   "codemirror_mode": {
    "name": "ipython",
    "version": 3
   },
   "file_extension": ".py",
   "mimetype": "text/x-python",
   "name": "python",
   "nbconvert_exporter": "python",
   "pygments_lexer": "ipython3",
   "version": "3.8.12"
  }
 },
 "nbformat": 4,
 "nbformat_minor": 5
}
