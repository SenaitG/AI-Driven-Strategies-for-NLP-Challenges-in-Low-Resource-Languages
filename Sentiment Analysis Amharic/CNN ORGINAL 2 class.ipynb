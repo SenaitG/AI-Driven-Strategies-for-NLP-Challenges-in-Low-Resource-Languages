{
 "cells": [
  {
   "cell_type": "code",
   "execution_count": 1,
   "id": "a8bde2a4",
   "metadata": {},
   "outputs": [],
   "source": [
    "import pandas as pd\n",
    "import numpy as np\n",
    "import re,nltk\n",
    "from numpy import array\n",
    "import csv\n",
    "import re, io"
   ]
  },
  {
   "cell_type": "code",
   "execution_count": 2,
   "id": "8342ed45",
   "metadata": {},
   "outputs": [
    {
     "name": "stdout",
     "output_type": "stream",
     "text": [
      "3613\n",
      "['1\\n', '1\\n', '1\\n', '0\\n', '0\\n', '1\\n', '1\\n', '0\\n', '0\\n', '0\\n']\n",
      "[]\n",
      "['ልክአደላችሁም ንብረታችንን የምርምር ስራ ከነፓተንቱ አይሸጥም ስንል ኦሮሞ ስለሆናችሁ ነው ይሉናል እኛ ዶ አብይ እስካሉ አንናገርም ንብረታችንን መሸጥ ቀርቶ ይረዱን ብልፅግና ከሚደናቀ', '_ ዘመኑ የቴክኖሎጂ ነው በማስረጃ እና በመረጃ ነው አንተ ከዕውቀት ነፃ ስለሆንክ አይፈረድብህም የፈለከውን ጋዜጠኛ አምጣለት በሩ ክፍት ነው', 'የበለጠ መስማማት አልቻልኩም', 'እንኳን ደስ አላችሁ ጤና ሚኒስቴር የአዲስ አበባ ዩኒቨርስቲ ለዶ ር ዋቅጋሪ ዴሬሳ አመንቴ የፕሮፌሰርነት ማዕረግ በመስጠቱ የተሰማውን ደስታ ይገልጻል', 'አቤቱ አምላኬ ሆይ እነ ታጥቦ ጭቃ የሚሰሩትን አያውቁምና ይቅር በላቸው', '_ ምግብ ቤት አስመሰላችሁት እኮ ዝርክርክ', 'በጣም ደደብ ነኝ ይቅርታ', 'ሃሳብ ካለህ በሃሳብህ ሞግት ካላቻልክ ደግሞ ጨዋነትህን ብታሳየን ይመረጣል ስድብ የሰነፍ ሰው ትልቁ ንብረቱ ነው ራስህን ከቻልክ አርም', 'በዓል እንዴት ነው ጥሩ ነው በምን አለፈ በብር', 'ታኬ በጣም በርቱልን ሰዉ ያውራ እናንተ ስሩ ለሀገራቹ ሰርታቹም እያሳያቹን ነው ዶ ር አብይም ኢ ር ታከለ የእኔ ጀግና ናቹ መቼም ታሪክ አይረሳቹም']\n"
     ]
    }
   ],
   "source": [
    "with open(\"orginaldata.txt\", 'r', encoding=\"utf-8\") as f:\n",
    "    lines = f.readlines()\n",
    "sentiment = []   \n",
    "X = []\n",
    "y = []\n",
    "\n",
    "for line in lines:\n",
    "    sentiment.append(line)\n",
    "    \n",
    "for el in sentiment:\n",
    "    men = el.split(\",\")\n",
    "    y.append(men[2])\n",
    "    X.append(men[1])\n",
    "    \n",
    "print(len(X))\n",
    "print(y[0:10])\n",
    "print(y[29000:29010])\n",
    "print(X[0:10])"
   ]
  },
  {
   "cell_type": "code",
   "execution_count": 3,
   "id": "361e9894",
   "metadata": {},
   "outputs": [],
   "source": [
    "for n, i in enumerate(y):\n",
    "    if i == \"1\\n\":\n",
    "        y[n] = 1\n",
    "for n, i in enumerate(y):\n",
    "    if i == \"0\\n\":\n",
    "        y[n] = 0\n",
    "for n, i in enumerate(y):\n",
    "    if i == \"positivene\\n\":\n",
    "        y[n] = 0"
   ]
  },
  {
   "cell_type": "code",
   "execution_count": 4,
   "id": "66b30b54",
   "metadata": {},
   "outputs": [
    {
     "name": "stdout",
     "output_type": "stream",
     "text": [
      "[1, 1, 1, 0, 0, 1, 1, 0, 0, 0]\n"
     ]
    }
   ],
   "source": [
    "print(y[0:10])"
   ]
  },
  {
   "cell_type": "code",
   "execution_count": 5,
   "id": "f551b58d",
   "metadata": {},
   "outputs": [],
   "source": [
    "from sklearn.preprocessing import LabelEncoder\n",
    "import numpy as np\n",
    "y = np.array(y)\n",
    "label_encoder = LabelEncoder()\n",
    "vec = label_encoder.fit_transform(y)"
   ]
  },
  {
   "cell_type": "code",
   "execution_count": 7,
   "id": "efda24d4",
   "metadata": {},
   "outputs": [
    {
     "name": "stdout",
     "output_type": "stream",
     "text": [
      "[0. 1.]\n",
      "[1. 0.]\n"
     ]
    }
   ],
   "source": [
    "from tensorflow.keras.utils import to_categorical\n",
    "y = to_categorical(vec)\n",
    "print(y[1])\n",
    "print(y[3000])"
   ]
  },
  {
   "cell_type": "code",
   "execution_count": 9,
   "id": "65e172a4",
   "metadata": {},
   "outputs": [
    {
     "name": "stdout",
     "output_type": "stream",
     "text": [
      "3613\n"
     ]
    }
   ],
   "source": [
    "print(len(y))"
   ]
  },
  {
   "cell_type": "code",
   "execution_count": 11,
   "id": "b0deff9a",
   "metadata": {},
   "outputs": [],
   "source": [
    "import pandas as pd\n",
    "import numpy as np \n",
    "import re,nltk\n",
    "from numpy import array\n",
    "from keras.preprocessing.text import one_hot\n",
    "from keras.preprocessing.sequence import pad_sequences\n",
    "from keras.models import Sequential\n",
    "from keras.layers.core import Activation, Dropout, Dense\n",
    "from keras.layers import Flatten\n",
    "from keras.layers.embeddings import Embedding\n",
    "from sklearn.model_selection import train_test_split\n",
    "from keras.preprocessing.text import Tokenizer"
   ]
  },
  {
   "cell_type": "code",
   "execution_count": 12,
   "id": "934c7f38",
   "metadata": {},
   "outputs": [
    {
     "name": "stdout",
     "output_type": "stream",
     "text": [
      "2312\n",
      "578\n",
      "723\n"
     ]
    }
   ],
   "source": [
    "X_train, X_test, y_train, y_test = train_test_split(X, y, test_size=0.20, random_state= 42, shuffle = True)\n",
    "X_train, X_val, y_train, y_val = train_test_split(X_train, y_train,test_size = 0.20, random_state = 1, shuffle = True)\n",
    "print(len(X_train))\n",
    "print(len(X_val))\n",
    "print(len(X_test))"
   ]
  },
  {
   "cell_type": "code",
   "execution_count": 13,
   "id": "d5038ea6",
   "metadata": {},
   "outputs": [],
   "source": [
    "tokenizer = Tokenizer(num_words = 30905, filters ='!\"#$%&()*+,-./;<=>?@][\\\\]^{|}~\\t\\n')\n",
    "tokenizer.fit_on_texts(X_train)\n",
    "index_of_words = tokenizer.word_index\n",
    "X_train = tokenizer.texts_to_sequences(X_train)\n",
    "X_test = tokenizer.texts_to_sequences(X_test)\n",
    "X_val = tokenizer.texts_to_sequences(X_val)"
   ]
  },
  {
   "cell_type": "code",
   "execution_count": 14,
   "id": "6aefc71e",
   "metadata": {},
   "outputs": [],
   "source": [
    "vocab_size = len(tokenizer.word_index) + 1\n",
    "maxlen = 100\n",
    "X_train = pad_sequences(X_train, padding = 'post', maxlen = maxlen)\n",
    "X_test = pad_sequences(X_test, padding = 'post', maxlen = maxlen)\n",
    "X_val = pad_sequences (X_val, padding = 'post', maxlen = maxlen)"
   ]
  },
  {
   "cell_type": "code",
   "execution_count": 16,
   "id": "67e87ee7",
   "metadata": {},
   "outputs": [
    {
     "name": "stdout",
     "output_type": "stream",
     "text": [
      "Total 41042 word vectors.\n"
     ]
    }
   ],
   "source": [
    "from numpy import array\n",
    "from numpy import asarray \n",
    "from numpy import zeros\n",
    "import pickle\n",
    "with open(\"EmbeddingAmh.pkl\", 'rb') as f:\n",
    "    embeddings_index = pickle.load(f)\n",
    "    print('Total %s word vectors.' %len(embeddings_index))"
   ]
  },
  {
   "cell_type": "code",
   "execution_count": 17,
   "id": "7507cff5",
   "metadata": {},
   "outputs": [
    {
     "name": "stdout",
     "output_type": "stream",
     "text": [
      "Embedding matrix shape (14955, 300)\n"
     ]
    }
   ],
   "source": [
    "EMBEDDINGS_DIM = 300\n",
    "embedding_matrix = np.random.random ((len(index_of_words) + 1, EMBEDDINGS_DIM))\n",
    "for word, i in index_of_words.items():\n",
    "    embedding_vector = embeddings_index.get(word)\n",
    "    if embedding_vector is not None:\n",
    "        embedding_matrix[i] = embedding_vector\n",
    "print( 'Embedding matrix shape', embedding_matrix.shape)"
   ]
  },
  {
   "cell_type": "code",
   "execution_count": 18,
   "id": "0286739a",
   "metadata": {},
   "outputs": [
    {
     "name": "stdout",
     "output_type": "stream",
     "text": [
      "Model: \"sequential\"\n",
      "_________________________________________________________________\n",
      "Layer (type)                 Output Shape              Param #   \n",
      "=================================================================\n",
      "embedding (Embedding)        (None, 100, 300)          4486500   \n",
      "_________________________________________________________________\n",
      "conv1d (Conv1D)              (None, 100, 32)           48032     \n",
      "_________________________________________________________________\n",
      "global_max_pooling1d (Global (None, 32)                0         \n",
      "_________________________________________________________________\n",
      "dropout (Dropout)            (None, 32)                0         \n",
      "_________________________________________________________________\n",
      "flatten (Flatten)            (None, 32)                0         \n",
      "_________________________________________________________________\n",
      "dense (Dense)                (None, 64)                2112      \n",
      "_________________________________________________________________\n",
      "dense_1 (Dense)              (None, 2)                 130       \n",
      "_________________________________________________________________\n",
      "dropout_1 (Dropout)          (None, 2)                 0         \n",
      "=================================================================\n",
      "Total params: 4,536,774\n",
      "Trainable params: 50,274\n",
      "Non-trainable params: 4,486,500\n",
      "_________________________________________________________________\n",
      "None\n"
     ]
    }
   ],
   "source": [
    "from keras.layers.convolutional import Conv1D\n",
    "from keras.models import Sequential\n",
    "from keras.optimizers import Adam\n",
    "from keras.layers import Dense\n",
    "from keras.layers import LSTM, SpatialDropout1D, Bidirectional\n",
    "from keras.layers import GlobalMaxPooling1D\n",
    "from keras.preprocessing import sequence\n",
    "import pandas as pd\n",
    "from gensim.models import Phrases\n",
    "from gensim.models.phrases import Phraser\n",
    "from keras import backend as K\n",
    "model = Sequential()\n",
    "embedding_layer = Embedding(vocab_size, 300, weights = [embedding_matrix], input_length=maxlen, trainable = False)\n",
    "model.add(embedding_layer)\n",
    "model.add(Conv1D(32, kernel_size = 5, activation = 'relu', padding = 'same'))\n",
    "model.add(GlobalMaxPooling1D())\n",
    "model.add(Dropout(0.25))\n",
    "#model.add(Conv1D(64, kernel_size = 5, activation = 'softmax', padding = 'same'))\n",
    "#model.add(MaxPooling1D(pool_size =2))\n",
    "#model.add(Dropout(0.25))\n",
    "\n",
    "#model.add(Conv1D(64, 5,  activation = 'softmax'))\n",
    "#model.add(GlobalMaxPooling1D())\n",
    "\n",
    "model.add(Flatten())\n",
    "model.add(Dense(64, activation='relu'))\n",
    "model.add(Dense(2, activation='sigmoid'))\n",
    "model.add(Dropout(0.3))\n",
    "model.compile(optimizer = 'adam', loss='categorical_crossentropy', metrics =['acc'])\n",
    "model.compile(loss ='categorical_crossentropy',\n",
    "             optimizer = 'adam',\n",
    "             metrics = ['acc'])\n",
    "print(model.summary())"
   ]
  },
  {
   "cell_type": "code",
   "execution_count": 19,
   "id": "12e71f2b",
   "metadata": {},
   "outputs": [
    {
     "name": "stdout",
     "output_type": "stream",
     "text": [
      "Epoch 1/50\n",
      "19/19 [==============================] - 4s 97ms/step - loss: nan - acc: 0.4686 - val_loss: nan - val_acc: 0.4567\n",
      "Epoch 2/50\n",
      "19/19 [==============================] - 1s 60ms/step - loss: nan - acc: 0.4557 - val_loss: nan - val_acc: 0.4567\n",
      "Epoch 3/50\n",
      "19/19 [==============================] - 1s 52ms/step - loss: nan - acc: 0.4808 - val_loss: nan - val_acc: 0.4567\n",
      "Epoch 4/50\n",
      "19/19 [==============================] - 1s 53ms/step - loss: nan - acc: 0.4767 - val_loss: nan - val_acc: 0.4567\n",
      "Epoch 5/50\n",
      "19/19 [==============================] - 1s 59ms/step - loss: nan - acc: 0.4582 - val_loss: nan - val_acc: 0.4567\n",
      "Epoch 6/50\n",
      "19/19 [==============================] - 1s 65ms/step - loss: nan - acc: 0.4880 - val_loss: nan - val_acc: 0.4567\n",
      "Epoch 7/50\n",
      "19/19 [==============================] - 1s 56ms/step - loss: nan - acc: 0.4592 - val_loss: nan - val_acc: 0.4567\n",
      "Epoch 8/50\n",
      "19/19 [==============================] - 1s 67ms/step - loss: nan - acc: 0.4623 - val_loss: nan - val_acc: 0.4567\n",
      "Epoch 9/50\n",
      "19/19 [==============================] - 1s 64ms/step - loss: nan - acc: 0.4748 - val_loss: nan - val_acc: 0.4567\n",
      "Epoch 10/50\n",
      "19/19 [==============================] - 1s 66ms/step - loss: nan - acc: 0.4654 - val_loss: nan - val_acc: 0.4567\n",
      "Epoch 11/50\n",
      "19/19 [==============================] - 1s 65ms/step - loss: nan - acc: 0.4687 - val_loss: nan - val_acc: 0.4567\n",
      "Epoch 12/50\n",
      "19/19 [==============================] - 1s 67ms/step - loss: nan - acc: 0.4728 - val_loss: nan - val_acc: 0.4567\n",
      "Epoch 13/50\n",
      "19/19 [==============================] - 1s 67ms/step - loss: nan - acc: 0.4708 - val_loss: nan - val_acc: 0.4567\n",
      "Epoch 14/50\n",
      "19/19 [==============================] - 1s 66ms/step - loss: nan - acc: 0.4790 - val_loss: nan - val_acc: 0.4567\n",
      "Epoch 15/50\n",
      "19/19 [==============================] - 1s 65ms/step - loss: nan - acc: 0.4751 - val_loss: nan - val_acc: 0.4567\n",
      "Epoch 16/50\n",
      "19/19 [==============================] - 1s 53ms/step - loss: nan - acc: 0.4659 - val_loss: nan - val_acc: 0.4567\n",
      "Epoch 17/50\n",
      "19/19 [==============================] - 1s 55ms/step - loss: nan - acc: 0.4696 - val_loss: nan - val_acc: 0.4567\n",
      "Epoch 18/50\n",
      "19/19 [==============================] - 1s 64ms/step - loss: nan - acc: 0.4774 - val_loss: nan - val_acc: 0.4567\n",
      "Epoch 19/50\n",
      "19/19 [==============================] - 1s 65ms/step - loss: nan - acc: 0.4747 - val_loss: nan - val_acc: 0.4567\n",
      "Epoch 20/50\n",
      "19/19 [==============================] - 1s 71ms/step - loss: nan - acc: 0.4659 - val_loss: nan - val_acc: 0.4567\n",
      "Epoch 21/50\n",
      "19/19 [==============================] - 1s 68ms/step - loss: nan - acc: 0.4817 - val_loss: nan - val_acc: 0.4567\n",
      "Epoch 22/50\n",
      "19/19 [==============================] - 1s 67ms/step - loss: nan - acc: 0.4799 - val_loss: nan - val_acc: 0.4567\n",
      "Epoch 23/50\n",
      "19/19 [==============================] - 1s 67ms/step - loss: nan - acc: 0.4518 - val_loss: nan - val_acc: 0.4567\n",
      "Epoch 24/50\n",
      "19/19 [==============================] - 1s 65ms/step - loss: nan - acc: 0.4755 - val_loss: nan - val_acc: 0.4567\n",
      "Epoch 25/50\n",
      "19/19 [==============================] - 1s 62ms/step - loss: nan - acc: 0.4731 - val_loss: nan - val_acc: 0.4567\n",
      "Epoch 26/50\n",
      "19/19 [==============================] - 1s 65ms/step - loss: nan - acc: 0.4763 - val_loss: nan - val_acc: 0.4567\n",
      "Epoch 27/50\n",
      "19/19 [==============================] - 1s 65ms/step - loss: nan - acc: 0.4701 - val_loss: nan - val_acc: 0.4567\n",
      "Epoch 28/50\n",
      "19/19 [==============================] - 1s 64ms/step - loss: nan - acc: 0.4804 - val_loss: nan - val_acc: 0.4567\n",
      "Epoch 29/50\n",
      "19/19 [==============================] - 1s 60ms/step - loss: nan - acc: 0.4578 - val_loss: nan - val_acc: 0.4567\n",
      "Epoch 30/50\n",
      "19/19 [==============================] - 1s 56ms/step - loss: nan - acc: 0.4780 - val_loss: nan - val_acc: 0.4567\n",
      "Epoch 31/50\n",
      "19/19 [==============================] - 1s 56ms/step - loss: nan - acc: 0.4862 - val_loss: nan - val_acc: 0.4567\n",
      "Epoch 32/50\n",
      "19/19 [==============================] - 1s 60ms/step - loss: nan - acc: 0.4824 - val_loss: nan - val_acc: 0.4567\n",
      "Epoch 33/50\n",
      "19/19 [==============================] - 1s 65ms/step - loss: nan - acc: 0.4820 - val_loss: nan - val_acc: 0.4567\n",
      "Epoch 34/50\n",
      "19/19 [==============================] - 1s 57ms/step - loss: nan - acc: 0.4648 - val_loss: nan - val_acc: 0.4567\n",
      "Epoch 35/50\n",
      "19/19 [==============================] - 1s 66ms/step - loss: nan - acc: 0.4622 - val_loss: nan - val_acc: 0.4567\n",
      "Epoch 36/50\n",
      "19/19 [==============================] - 1s 64ms/step - loss: nan - acc: 0.4727 - val_loss: nan - val_acc: 0.4567\n",
      "Epoch 37/50\n",
      "19/19 [==============================] - 1s 64ms/step - loss: nan - acc: 0.4732 - val_loss: nan - val_acc: 0.4567\n",
      "Epoch 38/50\n",
      "19/19 [==============================] - 1s 63ms/step - loss: nan - acc: 0.4632 - val_loss: nan - val_acc: 0.4567\n",
      "Epoch 39/50\n",
      "19/19 [==============================] - 1s 61ms/step - loss: nan - acc: 0.4666 - val_loss: nan - val_acc: 0.4567\n",
      "Epoch 40/50\n",
      "19/19 [==============================] - 1s 62ms/step - loss: nan - acc: 0.4772 - val_loss: nan - val_acc: 0.4567\n",
      "Epoch 41/50\n",
      "19/19 [==============================] - 1s 64ms/step - loss: nan - acc: 0.4723 - val_loss: nan - val_acc: 0.4567\n",
      "Epoch 42/50\n",
      "19/19 [==============================] - 1s 62ms/step - loss: nan - acc: 0.4763 - val_loss: nan - val_acc: 0.4567\n",
      "Epoch 43/50\n",
      "19/19 [==============================] - 1s 57ms/step - loss: nan - acc: 0.4572 - val_loss: nan - val_acc: 0.4567\n",
      "Epoch 44/50\n",
      "19/19 [==============================] - 1s 57ms/step - loss: nan - acc: 0.4678 - val_loss: nan - val_acc: 0.4567\n",
      "Epoch 45/50\n",
      "19/19 [==============================] - 1s 55ms/step - loss: nan - acc: 0.4698 - val_loss: nan - val_acc: 0.4567\n",
      "Epoch 46/50\n",
      "19/19 [==============================] - 1s 61ms/step - loss: nan - acc: 0.4576 - val_loss: nan - val_acc: 0.4567\n",
      "Epoch 47/50\n",
      "19/19 [==============================] - 1s 66ms/step - loss: nan - acc: 0.4643 - val_loss: nan - val_acc: 0.4567\n",
      "Epoch 48/50\n",
      "19/19 [==============================] - 1s 56ms/step - loss: nan - acc: 0.4727 - val_loss: nan - val_acc: 0.4567\n",
      "Epoch 49/50\n",
      "19/19 [==============================] - 1s 64ms/step - loss: nan - acc: 0.4708 - val_loss: nan - val_acc: 0.4567\n",
      "Epoch 50/50\n",
      "19/19 [==============================] - 1s 65ms/step - loss: nan - acc: 0.4595 - val_loss: nan - val_acc: 0.4567\n"
     ]
    }
   ],
   "source": [
    "from keras.callbacks import EarlyStopping\n",
    "early_stopping = EarlyStopping(monitor = 'val_loss', min_delta = 0.01, patience =4, verbose =1)\n",
    "callbacks_list = [early_stopping]\n",
    "hist =model.fit(X_train, y_train, epochs = 50, batch_size = 128, verbose = 1, validation_data = (X_val, y_val))\n"
   ]
  },
  {
   "cell_type": "code",
   "execution_count": 20,
   "id": "c10eace8",
   "metadata": {},
   "outputs": [
    {
     "name": "stdout",
     "output_type": "stream",
     "text": [
      "23/23 [==============================] - 0s 8ms/step - loss: nan - acc: 0.4592\n",
      "Test accuracy: 0.4591977894306183\n"
     ]
    }
   ],
   "source": [
    "score,acc  = model.evaluate(X_test, y_test, verbose=1)\n",
    "print('Test accuracy:', acc)"
   ]
  },
  {
   "cell_type": "code",
   "execution_count": 21,
   "id": "0b2f487c",
   "metadata": {},
   "outputs": [
    {
     "name": "stdout",
     "output_type": "stream",
     "text": [
      "Train accuracy: 0.4714532792568207\n"
     ]
    }
   ],
   "source": [
    "_,train_acc = model.evaluate(X_train,y_train, verbose = 0)\n",
    "print('Train accuracy:', train_acc)"
   ]
  },
  {
   "cell_type": "code",
   "execution_count": 22,
   "id": "a8db4632",
   "metadata": {},
   "outputs": [
    {
     "name": "stdout",
     "output_type": "stream",
     "text": [
      "0.4567474126815796\n"
     ]
    }
   ],
   "source": [
    "a, b = model.evaluate(X_val, y_val, verbose =0)\n",
    "print(b)"
   ]
  },
  {
   "cell_type": "code",
   "execution_count": null,
   "id": "df9917ce",
   "metadata": {},
   "outputs": [],
   "source": []
  }
 ],
 "metadata": {
  "kernelspec": {
   "display_name": "Python 3 (ipykernel)",
   "language": "python",
   "name": "python3"
  },
  "language_info": {
   "codemirror_mode": {
    "name": "ipython",
    "version": 3
   },
   "file_extension": ".py",
   "mimetype": "text/x-python",
   "name": "python",
   "nbconvert_exporter": "python",
   "pygments_lexer": "ipython3",
   "version": "3.8.12"
  }
 },
 "nbformat": 4,
 "nbformat_minor": 5
}
